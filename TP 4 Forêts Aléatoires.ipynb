{
 "cells": [
  {
   "cell_type": "markdown",
   "id": "d202fd00",
   "metadata": {},
   "source": [
    "## Bagging Example"
   ]
  },
  {
   "cell_type": "code",
   "execution_count": 3,
   "id": "8ec28f9d",
   "metadata": {},
   "outputs": [],
   "source": [
    "from sklearn.ensemble import BaggingClassifier\n",
    "from sklearn.neighbors import KNeighborsClassifier\n",
    "bagging = BaggingClassifier(KNeighborsClassifier(), max_samples=0.5,\n",
    "max_features=0.5)"
   ]
  },
  {
   "cell_type": "markdown",
   "id": "eab0737f",
   "metadata": {},
   "source": [
    "On utilise la base de données digits, qui contient 10 classes (images des chiffres en écriture manuscrite). Il y a 1797 éléments, chaque élément a 64 attributs (8 pixels par 8)."
   ]
  },
  {
   "cell_type": "code",
   "execution_count": 4,
   "id": "0b623210",
   "metadata": {},
   "outputs": [
    {
     "data": {
      "image/png": "[encoded data removed]",
      "text/plain": [
       "<Figure size 432x288 with 10 Axes>"
      ]
     },
     "metadata": {
      "needs_background": "light"
     },
     "output_type": "display_data"
    }
   ],
   "source": [
    "from sklearn.datasets import load_digits\n",
    "digits = load_digits()\n",
    "# Affichage des 10 premières images\n",
    "import matplotlib.pyplot as plt\n",
    "fig = plt.figure()\n",
    "for i, digit in enumerate(digits.images[:10]):\n",
    "    fig.add_subplot(1,10,i+1)\n",
    "    plt.imshow(digit)\n",
    "plt.show()"
   ]
  },
  {
   "cell_type": "markdown",
   "id": "41f1791b",
   "metadata": {},
   "source": [
    "On utilise dans le TP comme classifieur de base un arbre de décision DecisionTreeClassifier. Ce classifieur nous permet d’établir des performances de référence (c’est un ensemble à 1 modèle)."
   ]
  },
  {
   "cell_type": "code",
   "execution_count": 5,
   "id": "2106fbe1",
   "metadata": {},
   "outputs": [
    {
     "name": "stdout",
     "output_type": "stream",
     "text": [
      "1.0\n"
     ]
    }
   ],
   "source": [
    "import numpy as np\n",
    "from sklearn import tree\n",
    "from sklearn.ensemble import BaggingClassifier\n",
    "X, y = digits.data, digits.target\n",
    "clf = tree.DecisionTreeClassifier()\n",
    "clf.fit(X, y)\n",
    "accuracy = clf.score(X,y)\n",
    "print(accuracy)"
   ]
  },
  {
   "cell_type": "markdown",
   "id": "7d70c08d",
   "metadata": {},
   "source": [
    "Vu que sur la base d’apprentissage, on a obtenu accuracy = 1 . Pour plus de réalisme, découpons la base de \n",
    "données en un jeu d’apprentissage et un jeu de test afin de voir le comportement de généralisation de l’arbre sur des données différentes des celles d’apprentissage . "
   ]
  },
  {
   "cell_type": "code",
   "execution_count": 6,
   "id": "cb3bfc65",
   "metadata": {},
   "outputs": [
    {
     "name": "stdout",
     "output_type": "stream",
     "text": [
      "0.6773794808405439\n"
     ]
    }
   ],
   "source": [
    "from sklearn.model_selection import train_test_split\n",
    "# 90% des données pour le test, 10% pour l'apprentissage\n",
    "X_train, X_test, y_train, y_test = train_test_split(X, y, test_size=0.90)\n",
    "clf = tree.DecisionTreeClassifier()\n",
    "clf.fit(X_train, y_train)\n",
    "Z = clf.predict(X_test)\n",
    "accuracy = clf.score(X_test,y_test)\n",
    "print(accuracy)"
   ]
  },
  {
   "cell_type": "markdown",
   "id": "4c4e91c2",
   "metadata": {},
   "source": [
    "Question : on construit la variance de la valeur accuracy sur 100 tirages pour la séparation \n",
    "apprentissage/test ; "
   ]
  },
  {
   "cell_type": "code",
   "execution_count": 26,
   "id": "02bdb3ff",
   "metadata": {},
   "outputs": [
    {
     "name": "stdout",
     "output_type": "stream",
     "text": [
      "0.6928306551297899\n",
      "0.6928306551297899\n",
      "0.6983930778739185\n",
      "0.6823238566131026\n",
      "0.7021013597033374\n",
      "0.6372064276885043\n",
      "0.6705809641532756\n",
      "0.6897404202719407\n",
      "0.703955500618047\n",
      "0.6817058096415327\n",
      "0.6260815822002472\n",
      "0.6742892459826947\n",
      "0.7045735475896168\n",
      "0.7237330037082819\n",
      "0.6736711990111248\n",
      "0.6903584672435105\n",
      "0.7058096415327565\n",
      "0.6402966625463535\n",
      "0.6656365883807169\n",
      "0.681087762669963\n",
      "0.6359703337453646\n",
      "0.6619283065512979\n",
      "0.7070457354758962\n",
      "0.6953028430160693\n",
      "0.6953028430160693\n",
      "0.6600741656365884\n",
      "0.5896168108776267\n",
      "0.6711990111248455\n",
      "0.6841779975278122\n",
      "0.7126081582200248\n",
      "0.6798516687268232\n",
      "0.6415327564894932\n",
      "0.6606922126081582\n",
      "0.6854140914709518\n",
      "0.6588380716934487\n",
      "0.6854140914709518\n",
      "0.6909765142150803\n",
      "0.6415327564894932\n",
      "0.688504326328801\n",
      "0.6007416563658838\n",
      "0.6940667490729295\n",
      "0.6841779975278122\n",
      "0.669344870210136\n",
      "0.7021013597033374\n",
      "0.7082818294190358\n",
      "0.69221260815822\n",
      "0.6965389369592089\n",
      "0.7045735475896168\n",
      "0.69221260815822\n",
      "0.6872682323856613\n",
      "0.6903584672435105\n",
      "0.6489493201483313\n",
      "0.6872682323856613\n",
      "0.6532756489493201\n",
      "0.69221260815822\n",
      "0.6359703337453646\n",
      "0.6749072929542645\n",
      "0.7163164400494437\n",
      "0.6817058096415327\n",
      "0.6792336217552534\n",
      "0.7428924598269468\n",
      "0.6619283065512979\n",
      "0.6891223733003708\n",
      "0.6409147095179234\n",
      "0.742274412855377\n",
      "0.7070457354758962\n",
      "0.6656365883807169\n",
      "0.669344870210136\n",
      "0.6619283065512979\n",
      "0.6501854140914709\n",
      "0.6940667490729295\n",
      "0.6792336217552534\n",
      "0.703955500618047\n",
      "0.711372064276885\n",
      "0.7292954264524104\n",
      "0.6915945611866502\n",
      "0.6545117428924598\n",
      "0.6749072929542645\n",
      "0.7088998763906057\n",
      "0.7107540173053152\n",
      "0.5964153275648949\n",
      "0.7150803461063041\n",
      "0.7064276885043264\n",
      "0.6452410383189122\n",
      "0.676761433868974\n",
      "0.6736711990111248\n",
      "0.7181705809641533\n",
      "0.7138442521631644\n",
      "0.6903584672435105\n",
      "0.6953028430160693\n",
      "0.676761433868974\n",
      "0.6841779975278122\n",
      "0.688504326328801\n",
      "0.6996291718170581\n",
      "0.6736711990111248\n",
      "0.6199011124845488\n",
      "0.6440049443757726\n",
      "0.6996291718170581\n",
      "0.6742892459826947\n",
      "0.6854140914709518\n"
     ]
    }
   ],
   "source": [
    "import time\n",
    "N = 100 #100 tirages\n",
    "accuracies = []\n",
    "start_time = time.time()\n",
    "for i in range(N):\n",
    "    X_train, X_test, y_train, y_test = train_test_split(X, y, test_size=0.9)\n",
    "    clf = tree.DecisionTreeClassifier()\n",
    "    clf.fit(X_train, y_train)\n",
    "    Z = clf.predict(X_test)\n",
    "    accuracies.append(clf.score(X_test,y_test))\n",
    "    print(accuracies[i])\n",
    "end_time = time.time()\n"
   ]
  },
  {
   "cell_type": "code",
   "execution_count": 27,
   "id": "07dd6fb5",
   "metadata": {},
   "outputs": [
    {
     "name": "stdout",
     "output_type": "stream",
     "text": [
      "temps d'execution 0.3031742572784424\n"
     ]
    }
   ],
   "source": [
    "print(\"temps d'execution\",str(end_time - start_time))"
   ]
  },
  {
   "cell_type": "code",
   "execution_count": 16,
   "id": "edad3086",
   "metadata": {},
   "outputs": [
    {
     "name": "stdout",
     "output_type": "stream",
     "text": [
      "la variance de la valeur accuracy sur 100 tirages est :0.027849086124201405\n"
     ]
    }
   ],
   "source": [
    "print(f\"la variance de la valeur accuracy sur 100 tirages est :{np.std(accuracies)}\")"
   ]
  },
  {
   "cell_type": "markdown",
   "id": "22bf5b24",
   "metadata": {},
   "source": [
    "Conclusion : On a entrainé le même modele 100 fois et on abtenu que à peu près 3% d'accuracy, ce qui nous indique que le modèle n'est pas assez bon. Une autre remarque c'est que le temps d'éxecution était trop rapide, il ne prend que 0,30s pour faire du traitement. "
   ]
  },
  {
   "cell_type": "markdown",
   "id": "1287883c",
   "metadata": {},
   "source": [
    "Pour comparer, construisons mainntenant un classifieur bagging sur nos données, toujours \n",
    "basé sur les DecisionTreeClassifier :"
   ]
  },
  {
   "cell_type": "code",
   "execution_count": 19,
   "id": "efb763f6",
   "metadata": {},
   "outputs": [],
   "source": [
    "clf = BaggingClassifier(tree.DecisionTreeClassifier(),\n",
    "max_samples=0.5, max_features=0.5, n_estimators=200)"
   ]
  },
  {
   "cell_type": "code",
   "execution_count": 20,
   "id": "9a12f30e",
   "metadata": {},
   "outputs": [],
   "source": [
    "clf.fit(X_train, y_train)\n",
    "Z = clf.predict(X_test)\n",
    "accuracy=clf.score(X_test,y_test)"
   ]
  },
  {
   "cell_type": "markdown",
   "id": "880c8be0",
   "metadata": {},
   "source": [
    "Question : Calculons la variance de la valeur accuracy sur 100\n",
    "tirages pour la séparation apprentissage/test. \n"
   ]
  },
  {
   "cell_type": "code",
   "execution_count": 28,
   "id": "b2a94ef1",
   "metadata": {},
   "outputs": [
    {
     "data": {
      "text/plain": [
       "0.9054388133498146"
      ]
     },
     "execution_count": 28,
     "metadata": {},
     "output_type": "execute_result"
    }
   ],
   "source": [
    "accuracy"
   ]
  },
  {
   "cell_type": "code",
   "execution_count": 32,
   "id": "08f878db",
   "metadata": {},
   "outputs": [],
   "source": [
    "import time\n",
    "accuracies = []\n",
    "start_time = time.time()\n",
    "for i in range(0,100):\n",
    "    X_train, X_test, y_train, y_test = train_test_split(X, y, test_size=0.90)\n",
    "    clf = BaggingClassifier(tree.DecisionTreeClassifier(),\n",
    "    max_samples=0.5, max_features=0.5, n_estimators=200)\n",
    "    clf.fit(X_train, y_train)\n",
    "    Z = clf.predict(X_test)\n",
    "    accuracy = clf.score(X_test,y_test)\n",
    "    accuracies.append(accuracy)\n",
    "end_time = time.time()"
   ]
  },
  {
   "cell_type": "code",
   "execution_count": 33,
   "id": "1cb267a3",
   "metadata": {},
   "outputs": [
    {
     "name": "stdout",
     "output_type": "stream",
     "text": [
      "temps d'execution 40.25039482116699\n",
      "la variance de la valeur accuracy sur 100 tirage est :0.013463123039738166\n"
     ]
    }
   ],
   "source": [
    "print(\"temps d'execution\",str(end_time - start_time))\n",
    "print(f\"la variance de la valeur accuracy sur 100 tirage est :{np.std(accuracies)}\")"
   ]
  },
  {
   "cell_type": "markdown",
   "id": "406e5c6c",
   "metadata": {},
   "source": [
    "Conclusion :Cette méthode de bagging a pris beaucoup de temps pour le traitement 40.25s , En outre, la variance de la valeur accuracy a diminué, on a obtenu 0,013 par contre au premier temps on a obtenu 0.027. On conclut donc que cette méthode est beaucoup plus mieux que l'autre en terme de minimisation d'erreur . "
   ]
  },
  {
   "cell_type": "markdown",
   "id": "d4dbb4f8",
   "metadata": {},
   "source": [
    "Construction du graphique accuracy vs n_estimators : "
   ]
  },
  {
   "cell_type": "code",
   "execution_count": 41,
   "id": "ceccfa2c",
   "metadata": {},
   "outputs": [
    {
     "data": {
      "text/plain": [
       "<Figure size 432x288 with 0 Axes>"
      ]
     },
     "metadata": {},
     "output_type": "display_data"
    },
    {
     "data": {
      "image/png": "[encoded data removed]",
      "text/plain": [
       "<Figure size 432x288 with 1 Axes>"
      ]
     },
     "metadata": {
      "needs_background": "light"
     },
     "output_type": "display_data"
    }
   ],
   "source": [
    "X_train, X_test, y_train, y_test = train_test_split(X, y, test_size=0.90)\n",
    "plt.figure()\n",
    "n_estm = []\n",
    "n_accuracy = []\n",
    "for i in range(1,200,5):\n",
    "    clf = BaggingClassifier(tree.DecisionTreeClassifier(),max_samples=0.5, max_features=0.5, n_estimators=i)\n",
    "    clf.fit(X_train, y_train)\n",
    "    accuracy = clf.score(X_test,y_test)\n",
    "    n_estm.append(i)\n",
    "    n_accuracy.append(accuracy)\n",
    "plt.figure()\n",
    "plt.plot(n_estm,n_accuracy)\n",
    "plt.xlabel('number of estimators')\n",
    "plt.ylabel('accuracy')\n",
    "plt.title('Accuracy Vs number of estimator')\n",
    "plt.show()  "
   ]
  },
  {
   "cell_type": "markdown",
   "id": "f76f51e7",
   "metadata": {},
   "source": [
    "A partir d'un nombre d'estimateurs égale à 100 , nous constatons une accurence stable entre 0.8 et 0.9 ; Ce qui explique que le bon nombre d'estimateurs qu'on peut prendre est entre 100 et 150."
   ]
  },
  {
   "cell_type": "markdown",
   "id": "9af45029",
   "metadata": {},
   "source": [
    "Maintenant, on fait varier les parametres max_samples et max_features. On cherche les valeurs pour obrtenir le \n",
    "meilleur résultat, On pourra notamment utiliser la méthode GridSearchCV pour réaliser une recherche \n",
    "systématique : "
   ]
  },
  {
   "cell_type": "code",
   "execution_count": 42,
   "id": "bde743a3",
   "metadata": {},
   "outputs": [
    {
     "data": {
      "text/plain": [
       "{'max_samples': [0.1, 0.2, 0.3, 0.4, 0.5, 0.6, 0.7, 0.8, 0.9, 1.0],\n",
       " 'max_features': [0, 5, 10, 15, 20, 25, 30, 35, 40, 45, 50, 55, 60],\n",
       " 'n_estimators': [200]}"
      ]
     },
     "execution_count": 42,
     "metadata": {},
     "output_type": "execute_result"
    }
   ],
   "source": [
    "Dict = {\"max_samples\":[0.1 , 0.2 , 0.3, 0.4 ,0.5,0.6,0.7,0.8,0.9,1.0],\n",
    "       \"max_features\": [i for i in range(0,X.shape[1],5)],\n",
    "       \"n_estimators\":[200]}\n",
    "Dict"
   ]
  },
  {
   "cell_type": "code",
   "execution_count": 43,
   "id": "aae1a133",
   "metadata": {},
   "outputs": [
    {
     "name": "stderr",
     "output_type": "stream",
     "text": [
      "C:\\Users\\HP\\anaconda3\\lib\\site-packages\\sklearn\\model_selection\\_validation.py:372: FitFailedWarning: \n",
      "50 fits failed out of a total of 650.\n",
      "The score on these train-test partitions for these parameters will be set to nan.\n",
      "If these failures are not expected, you can try to debug them by setting error_score='raise'.\n",
      "\n",
      "Below are more details about the failures:\n",
      "--------------------------------------------------------------------------------\n",
      "50 fits failed with the following error:\n",
      "Traceback (most recent call last):\n",
      "  File \"C:\\Users\\HP\\anaconda3\\lib\\site-packages\\sklearn\\model_selection\\_validation.py\", line 680, in _fit_and_score\n",
      "    estimator.fit(X_train, y_train, **fit_params)\n",
      "  File \"C:\\Users\\HP\\anaconda3\\lib\\site-packages\\sklearn\\ensemble\\_bagging.py\", line 269, in fit\n",
      "    return self._fit(X, y, self.max_samples, sample_weight=sample_weight)\n",
      "  File \"C:\\Users\\HP\\anaconda3\\lib\\site-packages\\sklearn\\ensemble\\_bagging.py\", line 342, in _fit\n",
      "    raise ValueError(\"max_features must be in (0, n_features]\")\n",
      "ValueError: max_features must be in (0, n_features]\n",
      "\n",
      "  warnings.warn(some_fits_failed_message, FitFailedWarning)\n",
      "C:\\Users\\HP\\anaconda3\\lib\\site-packages\\sklearn\\model_selection\\_search.py:969: UserWarning: One or more of the test scores are non-finite: [       nan        nan        nan        nan        nan        nan\n",
      "        nan        nan        nan        nan 0.76       0.79888889\n",
      " 0.82095238 0.82126984 0.84888889 0.86015873 0.86015873 0.84936508\n",
      " 0.8268254  0.84904762 0.80444444 0.83238095 0.86047619 0.88825397\n",
      " 0.8884127  0.89936508 0.91047619 0.89380952 0.91634921 0.89380952\n",
      " 0.82142857 0.87730159 0.90492063 0.88825397 0.89936508 0.91079365\n",
      " 0.90492063 0.91047619 0.89952381 0.91063492 0.83253968 0.86603175\n",
      " 0.87174603 0.90507937 0.91619048 0.89936508 0.91603175 0.91619048\n",
      " 0.90492063 0.90492063 0.79904762 0.87714286 0.90507937 0.89936508\n",
      " 0.92174603 0.91619048 0.91619048 0.91047619 0.89952381 0.92190476\n",
      " 0.77650794 0.8715873  0.89952381 0.91619048 0.91063492 0.89936508\n",
      " 0.90507937 0.89936508 0.91063492 0.91047619 0.79888889 0.84888889\n",
      " 0.88253968 0.92174603 0.91063492 0.91047619 0.90492063 0.91619048\n",
      " 0.91063492 0.91619048 0.78253968 0.84920635 0.89380952 0.89936508\n",
      " 0.89920635 0.89920635 0.91047619 0.91603175 0.91063492 0.90492063\n",
      " 0.80460317 0.85460317 0.89365079 0.91603175 0.90492063 0.89936508\n",
      " 0.9215873  0.92174603 0.91047619 0.91063492 0.80984127 0.85460317\n",
      " 0.87126984 0.89365079 0.9047619  0.9047619  0.9047619  0.91047619\n",
      " 0.88206349 0.88793651 0.81539683 0.8547619  0.87142857 0.88253968\n",
      " 0.89920635 0.89936508 0.89920635 0.90492063 0.88809524 0.89380952\n",
      " 0.82698413 0.87126984 0.86587302 0.88222222 0.88238095 0.87111111\n",
      " 0.88253968 0.85968254 0.88238095 0.87666667]\n",
      "  warnings.warn(\n"
     ]
    },
    {
     "name": "stdout",
     "output_type": "stream",
     "text": [
      "Meilleur score : 0.9011124845488258\n",
      "max_samples: 1.0\n",
      "max_features: 25\n"
     ]
    }
   ],
   "source": [
    "digits = load_digits()\n",
    "X, y = digits.data, digits.target\n",
    "X_train, X_test, y_train, y_test = train_test_split(X, y, test_size=0.9)\n",
    "from sklearn.model_selection import GridSearchCV\n",
    "grid_search = GridSearchCV(BaggingClassifier(tree.DecisionTreeClassifier()), param_grid=Dict, cv=5)\n",
    "grid_search.fit(X_train, y_train)\n",
    "print(\"Meilleur score : \" + str(grid_search.best_estimator_.score(X_test, y_test)))\n",
    "print(\"max_samples: \" + str(grid_search.best_estimator_.max_samples))\n",
    "print(\"max_features: \" + str(grid_search.best_estimator_.max_features))"
   ]
  },
  {
   "cell_type": "markdown",
   "id": "fee1c9cc",
   "metadata": {},
   "source": [
    "## Forêts aléatoires"
   ]
  },
  {
   "cell_type": "markdown",
   "id": "f7037978",
   "metadata": {},
   "source": [
    "Par la suite nous allons refaire la classification sur la base Digits en utilisant un \n",
    "classifieur RandomForestClassifier. Comme d’habitude, on sépare les données en gardant 10% \n",
    "pour l’apprentissage et 90% pour le test : "
   ]
  },
  {
   "cell_type": "code",
   "execution_count": 48,
   "id": "cdc5add0",
   "metadata": {},
   "outputs": [],
   "source": [
    "digits = load_digits()\n",
    "X, y = digits.data, digits.target\n",
    "from sklearn.model_selection import train_test_split\n",
    "X_train, X_test, y_train, y_test = train_test_split(X, y,test_size=0.90)"
   ]
  },
  {
   "cell_type": "markdown",
   "id": "c9d021fa",
   "metadata": {},
   "source": [
    "On crée et on entraîne notre modèle :"
   ]
  },
  {
   "cell_type": "code",
   "execution_count": 49,
   "id": "fca91988",
   "metadata": {},
   "outputs": [
    {
     "data": {
      "text/plain": [
       "RandomForestClassifier(n_estimators=200)"
      ]
     },
     "execution_count": 49,
     "metadata": {},
     "output_type": "execute_result"
    }
   ],
   "source": [
    "from sklearn.ensemble import RandomForestClassifier\n",
    "clf = RandomForestClassifier(n_estimators=200)\n",
    "clf.fit(X_train, y_train)"
   ]
  },
  {
   "cell_type": "markdown",
   "id": "695a1f43",
   "metadata": {},
   "source": [
    "On réalise les prédictions et on calcule le score de test : "
   ]
  },
  {
   "cell_type": "code",
   "execution_count": 50,
   "id": "ca953372",
   "metadata": {},
   "outputs": [
    {
     "name": "stdout",
     "output_type": "stream",
     "text": [
      "0.9264524103831892\n"
     ]
    }
   ],
   "source": [
    "y_pred = clf.predict(X_test)\n",
    "accuracy = clf.score(X_test,y_test)\n",
    "print(accuracy)"
   ]
  },
  {
   "cell_type": "markdown",
   "id": "98b38422",
   "metadata": {},
   "source": [
    "Comment la valeur de la variable accuracy se compare avec le cas bagging qui utilise le même \n",
    "nombre d’arbres (200 dans notre cas) : "
   ]
  },
  {
   "cell_type": "code",
   "execution_count": 53,
   "id": "4f72cab1",
   "metadata": {},
   "outputs": [
    {
     "name": "stdout",
     "output_type": "stream",
     "text": [
      "Arbre de décision : 0.6847960444993819\n",
      "Bagging : 0.9171817058096415\n",
      "Forêt aléatoire : 0.9295426452410384\n"
     ]
    }
   ],
   "source": [
    "clf = tree.DecisionTreeClassifier()\n",
    "clf.fit(X_train, y_train)\n",
    "Z = clf.predict(X_test)\n",
    "print(\"Arbre de décision : \" + str(clf.score(X_test,y_test)))\n",
    "        \n",
    "clf = BaggingClassifier(tree.DecisionTreeClassifier(), max_samples=0.5, max_features=0.5, n_estimators=200)\n",
    "clf.fit(X_train, y_train)\n",
    "Z = clf.predict(X_test)\n",
    "print(\"Bagging : \" + str(clf.score(X_test,y_test)))\n",
    "        \n",
    "clf = RandomForestClassifier(n_estimators=200)\n",
    "clf.fit(X_train, y_train)\n",
    "Z = clf.predict(X_test)\n",
    "print(\"Forêt aléatoire : \" + str(clf.score(X_test,y_test)))"
   ]
  },
  {
   "cell_type": "markdown",
   "id": "ed76ebdb",
   "metadata": {},
   "source": [
    "les forêts aléatoires produisent un classifieur meilleur sur cette base de données par rapport aux arbres de décision et le Bagging,ce qui logique puisque l'algomètre optimise les arbres de décision par la randomisation dans la sélection des attributs."
   ]
  },
  {
   "cell_type": "markdown",
   "id": "0ea4ddc4",
   "metadata": {},
   "source": [
    "On construit la variance de la valeur accuracy sur 100 tirages pour la séparation \n",
    "apprentissage/test. "
   ]
  },
  {
   "cell_type": "code",
   "execution_count": 79,
   "id": "002e4a02",
   "metadata": {},
   "outputs": [
    {
     "name": "stdout",
     "output_type": "stream",
     "text": [
      "la moyenne d'accuracy pour les 100 tirages 0.9117985166872683\n",
      "la variance d'accuracy pour les 100 tirages 0.013604418434946846\n"
     ]
    }
   ],
   "source": [
    "# Construire la variance de la valeur accuracy sur 100 tirages pour la séparation apprentissage/test.\n",
    "list_accuracy = []\n",
    "for i in range(0,100):\n",
    "    X_train, X_test, y_train, y_test = train_test_split(X, y, test_size=0.90)\n",
    "    clf = RandomForestClassifier(n_estimators=200)\n",
    "    clf.fit(X_train, y_train)\n",
    "    accuracy = clf.score(X_test,y_test)\n",
    "    list_accuracy.append(accuracy)\n",
    "print(f\"la moyenne d'accuracy pour les 100 tirages {np.mean(list_accuracy)}\")\n",
    "print(f\"la variance d'accuracy pour les 100 tirages {np.std(list_accuracy)}\")\n"
   ]
  },
  {
   "cell_type": "markdown",
   "id": "3507e493",
   "metadata": {},
   "source": [
    " Conclusion : Nous avons obtenu un taux moyen d'erreurs, et aussi une variance faible.\n"
   ]
  },
  {
   "cell_type": "markdown",
   "id": "939e39bd",
   "metadata": {},
   "source": [
    "On construit le graphique accuracy vs n_estimators : "
   ]
  },
  {
   "cell_type": "code",
   "execution_count": 80,
   "id": "b2168a79",
   "metadata": {},
   "outputs": [
    {
     "data": {
      "text/plain": [
       "<Figure size 432x288 with 0 Axes>"
      ]
     },
     "metadata": {},
     "output_type": "display_data"
    }
   ],
   "source": [
    "plt.figure()\n",
    "n_estm = []\n",
    "n_accuracy = []\n",
    "for i in range(1,200,5):\n",
    "    clf = RandomForestClassifier(n_estimators=i)\n",
    "    clf.fit(X_train, y_train)\n",
    "    accuracy = clf.score(X_test,y_test)\n",
    "    n_estm.append(i)\n",
    "    n_accuracy.append(accuracy)"
   ]
  },
  {
   "cell_type": "code",
   "execution_count": 81,
   "id": "1f9c8705",
   "metadata": {},
   "outputs": [
    {
     "data": {
      "image/png": "[encoded data removed]",
      "text/plain": [
       "<Figure size 432x288 with 1 Axes>"
      ]
     },
     "metadata": {
      "needs_background": "light"
     },
     "output_type": "display_data"
    }
   ],
   "source": [
    "plt.figure()\n",
    "plt.plot(n_estm,n_accuracy)\n",
    "plt.xlabel('number of estimators')\n",
    "plt.ylabel('accuracy')\n",
    "plt.title('Random forest :Accuracy Vs number of estimator')\n",
    "plt.show()"
   ]
  },
  {
   "cell_type": "markdown",
   "id": "ebea10c9",
   "metadata": {},
   "source": [
    " A partir de ``n_estimators = 30`` le résultat commence à  osciller autour de la moyenne donc on ne gagne plus rien en augmentant la valeur."
   ]
  },
  {
   "cell_type": "markdown",
   "id": "ff972643",
   "metadata": {},
   "source": [
    "Regardons dans la documentation les ExtraTreesClassifier et refaites la classification avec ce \n",
    "type de classifieur. et On compare avec RandomForestClassifier : "
   ]
  },
  {
   "cell_type": "code",
   "execution_count": 58,
   "id": "03e82fc7",
   "metadata": {},
   "outputs": [
    {
     "name": "stdout",
     "output_type": "stream",
     "text": [
      "Forêt aléatoire : 0.9134734239802225\n",
      "Extra Trees Classifier : 0.9363411619283065\n"
     ]
    }
   ],
   "source": [
    "from sklearn.ensemble import ExtraTreesClassifier        \n",
    "import numpy as np\n",
    "digits = load_digits()\n",
    "X, y = digits.data, digits.target\n",
    "X_train, X_test, y_train, y_test = train_test_split(X, y, test_size=0.9, random_state=0)\n",
    "        \n",
    "clf = RandomForestClassifier(n_estimators=50)\n",
    "clf.fit(X_train, y_train)\n",
    "accuracy=clf.score(X_test,y_test)\n",
    "print(\"Forêt aléatoire : \" + str(accuracy))\n",
    "        \n",
    "clf = ExtraTreesClassifier(n_estimators=50)\n",
    "clf.fit(X_train, y_train)\n",
    "accuracy = clf.score(X_test,y_test)\n",
    "print(\"Extra Trees Classifier : \" + str(accuracy))\n"
   ]
  },
  {
   "cell_type": "markdown",
   "id": "e34db109",
   "metadata": {},
   "source": [
    "Les Extra-Trees randomisent encore plus la construction de l'arbre et sont utilisés  pour des données numériques. Par rapport aux forêts aléatoires, pour chaque *feature* candidat choisissent un seuil de coupure aléatoire. La plupart du temps, leur taux d'erreur est supérieur aux forêts aléatoires, le temps de calcul plus faible et les arbres générés sont plus grands."
   ]
  },
  {
   "cell_type": "markdown",
   "id": "f8480d3c",
   "metadata": {},
   "source": [
    "## Boosting"
   ]
  },
  {
   "cell_type": "markdown",
   "id": "ec10e9a7",
   "metadata": {},
   "source": [
    "Nous allons refaire la classification sur la base Digits en utilisant un \n",
    "classifieur RandomForestClassifier :"
   ]
  },
  {
   "cell_type": "code",
   "execution_count": 82,
   "id": "637cec77",
   "metadata": {},
   "outputs": [
    {
     "name": "stdout",
     "output_type": "stream",
     "text": [
      "0.9066749072929543\n"
     ]
    }
   ],
   "source": [
    "from sklearn.ensemble import AdaBoostClassifier\n",
    "digits = load_digits()\n",
    "X, y = digits.data, digits.target\n",
    "X_train, X_test, y_train, y_test = train_test_split(X, y, test_size=0.90)\n",
    "# AdaBoost basé sur 200 arbres de décision\n",
    "clf\n",
    "AdaBoostClassifier(base_estimator=tree.DecisionTreeClassifier(max_depth=5),\n",
    "n_estimators=200, learning_rate=2)\n",
    "clf.fit(X_train, y_train)\n",
    "accuracy = clf.score(X_test, y_test)\n",
    "print(accuracy)"
   ]
  },
  {
   "cell_type": "code",
   "execution_count": 83,
   "id": "c575bc0e",
   "metadata": {},
   "outputs": [
    {
     "data": {
      "text/plain": [
       "{1: 0.7373300370828183,\n",
       " 2: 0.8102595797280593,\n",
       " 3: 0.8745364647713226,\n",
       " 4: 0.9060568603213844,\n",
       " 5: 0.9004944375772559,\n",
       " 6: 0.9091470951792336,\n",
       " 7: 0.9097651421508035,\n",
       " 8: 0.9165636588380717,\n",
       " 9: 0.6965389369592089,\n",
       " 10: 0.6878862793572311,\n",
       " 11: 0.6674907292954264,\n",
       " 12: 0.6940667490729295,\n",
       " 13: 0.6817058096415327,\n",
       " 14: 0.681087762669963,\n",
       " 15: 0.6798516687268232,\n",
       " 16: 0.6724351050679852,\n",
       " 17: 0.7045735475896168,\n",
       " 18: 0.6495673671199012,\n",
       " 19: 0.6983930778739185}"
      ]
     },
     "execution_count": 83,
     "metadata": {},
     "output_type": "execute_result"
    }
   ],
   "source": [
    "# test pour Le paramètre max_depth\n",
    "accuracy_dict = {}\n",
    "for i in range(1,20):\n",
    "  clf = AdaBoostClassifier(base_estimator=tree.DecisionTreeClassifier(max_depth=i),n_estimators=200, learning_rate=2)\n",
    "  clf.fit(X_train, y_train)\n",
    "  accuracy = clf.score(X_test, y_test)\n",
    "  accuracy_dict[i] = accuracy\n",
    "accuracy_dict"
   ]
  },
  {
   "cell_type": "code",
   "execution_count": 84,
   "id": "4bc56362",
   "metadata": {},
   "outputs": [
    {
     "data": {
      "text/plain": [
       "{1: 0.8967861557478368,\n",
       " 2: 0.9035846724351051,\n",
       " 3: 0.9110012360939431,\n",
       " 4: 0.8788627935723115,\n",
       " 5: 0.8677379480840544,\n",
       " 6: 0.7818294190358467,\n",
       " 7: 0.7836835599505563,\n",
       " 8: 0.754017305315204,\n",
       " 9: 0.6149567367119901}"
      ]
     },
     "execution_count": 84,
     "metadata": {},
     "output_type": "execute_result"
    }
   ],
   "source": [
    "# test pour Le paramètre learning_rate\n",
    "accuracy_dict = {}\n",
    "for i in range(1,10):\n",
    "  clf = AdaBoostClassifier(base_estimator=tree.DecisionTreeClassifier(max_depth=5),n_estimators=200, learning_rate=i)\n",
    "  clf.fit(X_train, y_train)\n",
    "  accuracy = clf.score(X_test, y_test)\n",
    "  accuracy_dict[i] = accuracy\n",
    "accuracy_dict"
   ]
  },
  {
   "cell_type": "markdown",
   "id": "1e1a3429",
   "metadata": {},
   "source": [
    "Conclusion : Une valeur plus faible de ``learning_rate`` permet d'améliorer le score, mais pas au-delà  d'une certaine valeur."
   ]
  }
 ],
 "metadata": {
  "kernelspec": {
   "display_name": "Python 3 (ipykernel)",
   "language": "python",
   "name": "python3"
  },
  "language_info": {
   "codemirror_mode": {
    "name": "ipython",
    "version": 3
   },
   "file_extension": ".py",
   "mimetype": "text/x-python",
   "name": "python",
   "nbconvert_exporter": "python",
   "pygments_lexer": "ipython3",
   "version": "3.9.12"
  }
 },
 "nbformat": 4,
 "nbformat_minor": 5
}
